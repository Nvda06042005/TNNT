{
 "cells": [
  {
   "cell_type": "code",
   "execution_count": 66,
   "id": "1e045b9a-9585-48b8-801b-9b1505064ee8",
   "metadata": {},
   "outputs": [],
   "source": [
    "# Thư viện\n",
    "import numpy as np\n",
    "import pandas as pd\n",
    "from sklearn.naive_bayes import BernoulliNB\n",
    "from sklearn.naive_bayes import MultinomialNB\n",
    "from sklearn.feature_extraction.text import CountVectorizer"
   ]
  },
  {
   "cell_type": "code",
   "execution_count": 67,
   "id": "b2bae994-734f-430c-9bfc-3eabbf5996eb",
   "metadata": {},
   "outputs": [
    {
     "data": {
      "text/html": [
       "<div>\n",
       "<style scoped>\n",
       "    .dataframe tbody tr th:only-of-type {\n",
       "        vertical-align: middle;\n",
       "    }\n",
       "\n",
       "    .dataframe tbody tr th {\n",
       "        vertical-align: top;\n",
       "    }\n",
       "\n",
       "    .dataframe thead th {\n",
       "        text-align: right;\n",
       "    }\n",
       "</style>\n",
       "<table border=\"1\" class=\"dataframe\">\n",
       "  <thead>\n",
       "    <tr style=\"text-align: right;\">\n",
       "      <th></th>\n",
       "      <th>Text</th>\n",
       "      <th>Label</th>\n",
       "    </tr>\n",
       "  </thead>\n",
       "  <tbody>\n",
       "    <tr>\n",
       "      <th>0</th>\n",
       "      <td>This is good</td>\n",
       "      <td>positive</td>\n",
       "    </tr>\n",
       "    <tr>\n",
       "      <th>1</th>\n",
       "      <td>Very bad</td>\n",
       "      <td>negative</td>\n",
       "    </tr>\n",
       "    <tr>\n",
       "      <th>2</th>\n",
       "      <td>Excellent</td>\n",
       "      <td>positive</td>\n",
       "    </tr>\n",
       "    <tr>\n",
       "      <th>3</th>\n",
       "      <td>Poor</td>\n",
       "      <td>negative</td>\n",
       "    </tr>\n",
       "    <tr>\n",
       "      <th>4</th>\n",
       "      <td>Average</td>\n",
       "      <td>positive</td>\n",
       "    </tr>\n",
       "  </tbody>\n",
       "</table>\n",
       "</div>"
      ],
      "text/plain": [
       "           Text     Label\n",
       "0  This is good  positive\n",
       "1      Very bad  negative\n",
       "2     Excellent  positive\n",
       "3          Poor  negative\n",
       "4       Average  positive"
      ]
     },
     "execution_count": 67,
     "metadata": {},
     "output_type": "execute_result"
    }
   ],
   "source": [
    "# Lấy dữ liệu\n",
    "# Nếu không có file Education.csv, tạo DataFrame mẫu\n",
    "data = pd.DataFrame({\n",
    "\t'Text': ['This is good', 'Very bad', 'Excellent', 'Poor', 'Average'],\n",
    "\t'Label': ['positive', 'negative', 'positive', 'negative', 'positive']\n",
    "})\n",
    "data.head()"
   ]
  },
  {
   "cell_type": "code",
   "execution_count": 68,
   "id": "5117f13e-3e92-4eb5-b4dc-cc900a746061",
   "metadata": {},
   "outputs": [],
   "source": [
    "# tạo hàm train test\n",
    "def split_train_test(data, ratio_test):\n",
    "    np.random.seed(00)\n",
    "    index_permu = np.random.permutation(len(data))\n",
    "    data_permu = data.iloc[index_permu]\n",
    "    test_size = int(len(data_permu)*ratio_test)\n",
    "    train_set = data_permu.iloc[:-test_size]\n",
    "    test_set = data_permu.iloc[-test_size:]\n",
    "    return train_set, test_set"
   ]
  },
  {
   "cell_type": "code",
   "execution_count": 69,
   "id": "e6a721eb-5e4e-47a6-a05c-298654c0fe3c",
   "metadata": {},
   "outputs": [
    {
     "name": "stdout",
     "output_type": "stream",
     "text": [
      "Kích thước tập train: 4\n",
      "Kích thước tập train: 1\n"
     ]
    }
   ],
   "source": [
    "train_set, test_set = split_train_test(data, 0.2)\n",
    "train_set.reset_index(drop = True, inplace = True)\n",
    "test_set.reset_index(drop = True, inplace = True)\n",
    "print(\"Kích thước tập train:\", len(train_set))\n",
    "print(\"Kích thước tập train:\", len(test_set))"
   ]
  },
  {
   "cell_type": "code",
   "execution_count": 70,
   "id": "dfd8a5e3-92c0-4408-91f2-5812a16f497b",
   "metadata": {},
   "outputs": [
    {
     "name": "stdout",
     "output_type": "stream",
     "text": [
      "4 4\n",
      "1 1\n",
      "0    Average\n",
      "Name: Text, dtype: object\n",
      "0    positive\n",
      "Name: Label, dtype: object\n"
     ]
    }
   ],
   "source": [
    "X_train, y_train = train_set['Text'], train_set['Label']\n",
    "X_test, y_test = test_set['Text'], test_set['Label']\n",
    "print(len(X_train), len(y_train))\n",
    "print(len(X_test), len(y_test))\n",
    "print(X_test)\n",
    "print(y_test)"
   ]
  },
  {
   "cell_type": "code",
   "execution_count": 38,
   "id": "0eb13bea-124a-4405-9aec-2c40bb5b0bcb",
   "metadata": {},
   "outputs": [
    {
     "name": "stdout",
     "output_type": "stream",
     "text": [
      "Label\n",
      "positive    2\n",
      "negative    2\n",
      "Name: count, dtype: int64\n",
      "Label\n",
      "positive    1\n",
      "Name: count, dtype: int64\n"
     ]
    }
   ],
   "source": [
    "print(y_train.value_counts())\n",
    "print(y_test.value_counts())"
   ]
  },
  {
   "cell_type": "code",
   "execution_count": 39,
   "id": "fa39726f-6ef4-4701-93bd-bc7383550379",
   "metadata": {},
   "outputs": [
    {
     "name": "stdout",
     "output_type": "stream",
     "text": [
      "0    positive\n",
      "1    positive\n",
      "2    negative\n",
      "3    negative\n",
      "Name: Label, dtype: object\n"
     ]
    },
    {
     "data": {
      "text/plain": [
       "0    1\n",
       "1    1\n",
       "2    0\n",
       "3    0\n",
       "Name: Label, dtype: int64"
      ]
     },
     "execution_count": 65,
     "metadata": {},
     "output_type": "execute_result"
    }
   ],
   "source": [
    "# chuyển đổi positive: 1 và negative: 0\n",
    "print(y_train.head())\n",
    "y_train = y_train.map({\"positive\": 1, \"negative\": 0})\n",
    "y_train.head()"
   ]
  },
  {
   "cell_type": "code",
   "execution_count": 40,
   "id": "c88184ca-7282-4870-ad64-ede0da738e75",
   "metadata": {},
   "outputs": [
    {
     "name": "stdout",
     "output_type": "stream",
     "text": [
      "[[0 1 0 0]\n",
      " [0 0 1 0]\n",
      " [1 0 0 0]\n",
      " [0 0 0 1]]\n",
      "(4, 4)\n"
     ]
    }
   ],
   "source": [
    "# count1: phân phối Bernoulli --> cài tham số binary: True\n",
    "count1 = CountVectorizer(binary = True, stop_words = 'english') # dùng bộ lọc trong tiếng anh\n",
    "count1.fit(X_train)\n",
    "X_train = count1.transform(X_train)\n",
    "print(X_train.toarray())\n",
    "print(X_train.toarray().shape)"
   ]
  },
  {
   "cell_type": "code",
   "execution_count": 41,
   "id": "cf474719-bc8e-402c-bc52-86d4d3ab4819",
   "metadata": {},
   "outputs": [
    {
     "name": "stdout",
     "output_type": "stream",
     "text": [
      "['bad' 'excellent' 'good' 'poor']\n",
      "4\n"
     ]
    }
   ],
   "source": [
    "# xem tên các đặc trưng\n",
    "get_name = count1.get_feature_names_out()\n",
    "print(get_name)\n",
    "print(len(get_name)) "
   ]
  },
  {
   "cell_type": "code",
   "execution_count": 11,
   "id": "8d6f8e93-2567-4163-aeb7-6cdcf26712aa",
   "metadata": {},
   "outputs": [],
   "source": [
    "bernoulli = BernoulliNB()\n",
    "model1 = bernoulli.fit(X_train, y_train)"
   ]
  },
  {
   "cell_type": "code",
   "execution_count": 12,
   "id": "729305c7-a841-4d35-a04e-1cf934d1c0d4",
   "metadata": {},
   "outputs": [
    {
     "name": "stdout",
     "output_type": "stream",
     "text": [
      "[[0 0 0 0]]\n",
      "(1, 4)\n"
     ]
    }
   ],
   "source": [
    "# chuyển đổi X_test về ma trận trước khi dự đoán\n",
    "# lưu ý: biến đổi dựa trên các đặc trưng của count 1\n",
    "X_test = count1.transform(X_test)\n",
    "print(X_test.toarray())\n",
    "print(X_test.shape)"
   ]
  },
  {
   "cell_type": "code",
   "execution_count": 13,
   "id": "06ae9721-1884-4e0a-adaf-643367499363",
   "metadata": {},
   "outputs": [
    {
     "name": "stdout",
     "output_type": "stream",
     "text": [
      "[0]\n",
      "[[0.5 0.5]]\n",
      "['negative']\n"
     ]
    }
   ],
   "source": [
    "y_pred = model1.predict(X_test)\n",
    "y_pred_proba = model1.predict_proba(X_test)\n",
    "print(y_pred)\n",
    "print(y_pred_proba)\n",
    "y_pred_trans = np.where(y_pred == 0, \"negative\", \"positive\")\n",
    "print(y_pred_trans)"
   ]
  },
  {
   "cell_type": "code",
   "execution_count": 14,
   "id": "020b6cdb-9c12-4b14-8ead-aef4076a2668",
   "metadata": {},
   "outputs": [
    {
     "data": {
      "text/plain": [
       "[(np.str_('negative'), 'positive')]"
      ]
     },
     "execution_count": 45,
     "metadata": {},
     "output_type": "execute_result"
    }
   ],
   "source": [
    "list(zip(y_pred_trans, y_test))"
   ]
  },
  {
   "cell_type": "code",
   "execution_count": 15,
   "id": "454c329c-421f-4bb2-8acc-77fb45998813",
   "metadata": {},
   "outputs": [],
   "source": [
    "# có 4 độ đo phổ biến cho bài toán phân loại: accuracy, precision, recall, F1 score"
   ]
  },
  {
   "cell_type": "code",
   "execution_count": 16,
   "id": "268b8eb6-605c-4e17-b817-84d0c78b045e",
   "metadata": {},
   "outputs": [
    {
     "name": "stdout",
     "output_type": "stream",
     "text": [
      "[[0 0]\n",
      " [1 0]]\n"
     ]
    }
   ],
   "source": [
    "# confusion matrix\n",
    "from sklearn.metrics import confusion_matrix\n",
    "confusion = confusion_matrix(y_test, y_pred_trans)\n",
    "print(confusion)"
   ]
  },
  {
   "cell_type": "code",
   "execution_count": 17,
   "id": "4c16effa-419f-4dc6-b7c6-ec9ebe13ba7b",
   "metadata": {},
   "outputs": [
    {
     "name": "stdout",
     "output_type": "stream",
     "text": [
      "0 0 1 0\n"
     ]
    }
   ],
   "source": [
    "# đối chiếu với lý thuyết ta thấy: TN = 2, FP = 4, FN = 0, TP = 4\n",
    "TN = confusion[0][0]\n",
    "FP = confusion[0][1]\n",
    "FN = confusion[1][0]\n",
    "TP = confusion[1][1]\n",
    "print(TN, FP, FN, TP)"
   ]
  },
  {
   "cell_type": "code",
   "execution_count": 19,
   "id": "f66b0be7-422a-443e-ad28-e3cac5e5ac11",
   "metadata": {},
   "outputs": [
    {
     "name": "stdout",
     "output_type": "stream",
     "text": [
      "Accuracy: 0.0\n",
      "Precision: nan\n",
      "Recall: 0.0\n",
      "F1-score: nan\n"
     ]
    },
    {
     "name": "stderr",
     "output_type": "stream",
     "text": [
      "C:\\Users\\DELL\\AppData\\Local\\Temp\\ipykernel_23124\\1112712016.py:2: RuntimeWarning: invalid value encountered in scalar divide\n",
      "  precision = TP/(TP + FP)\n"
     ]
    }
   ],
   "source": [
    "accuracy = (TP + TN)/len(y_pred_trans)\n",
    "precision = TP/(TP + FP)\n",
    "recall = TP/(TP + FN)\n",
    "f1_score = round(2*(precision*recall)/(precision + recall), 2)\n",
    "print(\"Accuracy:\", accuracy)\n",
    "print(\"Precision:\", precision)\n",
    "print(\"Recall:\", recall)\n",
    "print(\"F1-score:\", f1_score)"
   ]
  },
  {
   "cell_type": "code",
   "execution_count": 20,
   "id": "c2a3a7d7-95af-4a0a-9f99-4f229b078918",
   "metadata": {},
   "outputs": [
    {
     "name": "stdout",
     "output_type": "stream",
     "text": [
      "              precision    recall  f1-score   support\n",
      "\n",
      "    negative       0.00      0.00      0.00       0.0\n",
      "    positive       0.00      0.00      0.00       1.0\n",
      "\n",
      "    accuracy                           0.00       1.0\n",
      "   macro avg       0.00      0.00      0.00       1.0\n",
      "weighted avg       0.00      0.00      0.00       1.0\n",
      "\n"
     ]
    },
    {
     "name": "stderr",
     "output_type": "stream",
     "text": [
      "c:\\Users\\DELL\\AppData\\Local\\Programs\\Python\\Python310\\lib\\site-packages\\sklearn\\metrics\\_classification.py:1731: UndefinedMetricWarning: Precision is ill-defined and being set to 0.0 in labels with no predicted samples. Use `zero_division` parameter to control this behavior.\n",
      "  _warn_prf(average, modifier, f\"{metric.capitalize()} is\", result.shape[0])\n",
      "c:\\Users\\DELL\\AppData\\Local\\Programs\\Python\\Python310\\lib\\site-packages\\sklearn\\metrics\\_classification.py:1731: UndefinedMetricWarning: Recall is ill-defined and being set to 0.0 in labels with no true samples. Use `zero_division` parameter to control this behavior.\n",
      "  _warn_prf(average, modifier, f\"{metric.capitalize()} is\", result.shape[0])\n",
      "c:\\Users\\DELL\\AppData\\Local\\Programs\\Python\\Python310\\lib\\site-packages\\sklearn\\metrics\\_classification.py:1731: UndefinedMetricWarning: Precision is ill-defined and being set to 0.0 in labels with no predicted samples. Use `zero_division` parameter to control this behavior.\n",
      "  _warn_prf(average, modifier, f\"{metric.capitalize()} is\", result.shape[0])\n",
      "c:\\Users\\DELL\\AppData\\Local\\Programs\\Python\\Python310\\lib\\site-packages\\sklearn\\metrics\\_classification.py:1731: UndefinedMetricWarning: Recall is ill-defined and being set to 0.0 in labels with no true samples. Use `zero_division` parameter to control this behavior.\n",
      "  _warn_prf(average, modifier, f\"{metric.capitalize()} is\", result.shape[0])\n",
      "c:\\Users\\DELL\\AppData\\Local\\Programs\\Python\\Python310\\lib\\site-packages\\sklearn\\metrics\\_classification.py:1731: UndefinedMetricWarning: Precision is ill-defined and being set to 0.0 in labels with no predicted samples. Use `zero_division` parameter to control this behavior.\n",
      "  _warn_prf(average, modifier, f\"{metric.capitalize()} is\", result.shape[0])\n",
      "c:\\Users\\DELL\\AppData\\Local\\Programs\\Python\\Python310\\lib\\site-packages\\sklearn\\metrics\\_classification.py:1731: UndefinedMetricWarning: Recall is ill-defined and being set to 0.0 in labels with no true samples. Use `zero_division` parameter to control this behavior.\n",
      "  _warn_prf(average, modifier, f\"{metric.capitalize()} is\", result.shape[0])\n"
     ]
    }
   ],
   "source": [
    "# hàm xem nhanh các độ đo\n",
    "from sklearn.metrics import classification_report\n",
    "print(classification_report(y_test, y_pred_trans))"
   ]
  },
  {
   "cell_type": "code",
   "execution_count": 21,
   "id": "fb0197db-092b-4025-bffc-8238725b5ac3",
   "metadata": {},
   "outputs": [
    {
     "name": "stdout",
     "output_type": "stream",
     "text": [
      "nan\n"
     ]
    },
    {
     "name": "stderr",
     "output_type": "stream",
     "text": [
      "c:\\Users\\DELL\\AppData\\Local\\Programs\\Python\\Python310\\lib\\site-packages\\sklearn\\metrics\\_ranking.py:1192: UndefinedMetricWarning: No negative samples in y_true, false positive value should be meaningless\n",
      "  warnings.warn(\n"
     ]
    }
   ],
   "source": [
    "# đường cong ROC, AUC\n",
    "from sklearn.metrics import roc_curve, auc\n",
    "fpr, tpr, thresholds = roc_curve(y_test, y_pred_proba[:, 1], pos_label = 'positive')\n",
    "# diện tích dưới đường cong ROC\n",
    "auc = auc(fpr, tpr)\n",
    "print(auc)"
   ]
  },
  {
   "cell_type": "code",
   "execution_count": 23,
   "id": "155610f4-8c6c-4932-b06d-5d7290e7ff50",
   "metadata": {},
   "outputs": [
    {
     "data": {
      "image/png": "[encoded data removed]",
      "text/plain": [
       "<Figure size 640x480 with 1 Axes>"
      ]
     },
     "metadata": {},
     "output_type": "display_data"
    }
   ],
   "source": [
    "# vẽ đường cong ROC\n",
    "%matplotlib inline\n",
    "import matplotlib.pyplot as plt\n",
    "\n",
    "plt.plot([0, 1], [0, 1], linestyle = '--', color = 'gray')\n",
    "plt.plot(fpr, tpr, marker = '.', color = 'green')\n",
    "plt.ylabel('True Positive Rate')\n",
    "plt.xlabel('False Positive Rate')\n",
    "plt.title('ROC')\n",
    "plt.show()"
   ]
  },
  {
   "cell_type": "code",
   "execution_count": 31,
   "id": "e015f744-0666-499a-b17a-5d6e04b7d99d",
   "metadata": {},
   "outputs": [
    {
     "name": "stdout",
     "output_type": "stream",
     "text": [
      "Kết quả MultinomialNB:\n",
      "              precision    recall  f1-score   support\n",
      "\n",
      "    negative       0.00      0.00      0.00       0.0\n",
      "    positive       0.00      0.00      0.00       1.0\n",
      "\n",
      "    accuracy                           0.00       1.0\n",
      "   macro avg       0.00      0.00      0.00       1.0\n",
      "weighted avg       0.00      0.00      0.00       1.0\n",
      "\n",
      "\n",
      "So sánh hai mô hình:\n",
      "BernoulliNB prediction : ['negative']\n",
      "MultinomialNB prediction: ['negative']\n"
     ]
    },
    {
     "name": "stderr",
     "output_type": "stream",
     "text": [
      "c:\\Users\\DELL\\AppData\\Local\\Programs\\Python\\Python310\\lib\\site-packages\\sklearn\\metrics\\_classification.py:1731: UndefinedMetricWarning: Precision is ill-defined and being set to 0.0 in labels with no predicted samples. Use `zero_division` parameter to control this behavior.\n",
      "  _warn_prf(average, modifier, f\"{metric.capitalize()} is\", result.shape[0])\n",
      "c:\\Users\\DELL\\AppData\\Local\\Programs\\Python\\Python310\\lib\\site-packages\\sklearn\\metrics\\_classification.py:1731: UndefinedMetricWarning: Recall is ill-defined and being set to 0.0 in labels with no true samples. Use `zero_division` parameter to control this behavior.\n",
      "  _warn_prf(average, modifier, f\"{metric.capitalize()} is\", result.shape[0])\n",
      "c:\\Users\\DELL\\AppData\\Local\\Programs\\Python\\Python310\\lib\\site-packages\\sklearn\\metrics\\_classification.py:1731: UndefinedMetricWarning: Precision is ill-defined and being set to 0.0 in labels with no predicted samples. Use `zero_division` parameter to control this behavior.\n",
      "  _warn_prf(average, modifier, f\"{metric.capitalize()} is\", result.shape[0])\n",
      "c:\\Users\\DELL\\AppData\\Local\\Programs\\Python\\Python310\\lib\\site-packages\\sklearn\\metrics\\_classification.py:1731: UndefinedMetricWarning: Recall is ill-defined and being set to 0.0 in labels with no true samples. Use `zero_division` parameter to control this behavior.\n",
      "  _warn_prf(average, modifier, f\"{metric.capitalize()} is\", result.shape[0])\n",
      "c:\\Users\\DELL\\AppData\\Local\\Programs\\Python\\Python310\\lib\\site-packages\\sklearn\\metrics\\_classification.py:1731: UndefinedMetricWarning: Precision is ill-defined and being set to 0.0 in labels with no predicted samples. Use `zero_division` parameter to control this behavior.\n",
      "  _warn_prf(average, modifier, f\"{metric.capitalize()} is\", result.shape[0])\n",
      "c:\\Users\\DELL\\AppData\\Local\\Programs\\Python\\Python310\\lib\\site-packages\\sklearn\\metrics\\_classification.py:1731: UndefinedMetricWarning: Recall is ill-defined and being set to 0.0 in labels with no true samples. Use `zero_division` parameter to control this behavior.\n",
      "  _warn_prf(average, modifier, f\"{metric.capitalize()} is\", result.shape[0])\n"
     ]
    }
   ],
   "source": [
    "# 1) Lấy lại văn bản gốc\n",
    "X_train_text = train_set['Text']      # luôn là chuỗi\n",
    "X_test_text  = test_set['Text']\n",
    "\n",
    "# 2) Vector hoá cho MultinomialNB\n",
    "count2 = CountVectorizer(stop_words='english')\n",
    "X_train_multi = count2.fit_transform(X_train_text)   # fit + transform\n",
    "X_test_multi  = count2.transform(X_test_text)\n",
    "\n",
    "# 3) Huấn luyện & dự đoán\n",
    "multinomial = MultinomialNB()\n",
    "model2 = multinomial.fit(X_train_multi, y_train)     # y_train đã map 0/1\n",
    "y_pred_multi = model2.predict(X_test_multi)\n",
    "y_pred_proba_multi = model2.predict_proba(X_test_multi)\n",
    "\n",
    "# 4) Chuyển về nhãn chữ\n",
    "y_pred_trans_multi = np.where(y_pred_multi == 0, \"negative\", \"positive\")\n",
    "\n",
    "# 5) Đánh giá\n",
    "from sklearn.metrics import classification_report\n",
    "print(\"Kết quả MultinomialNB:\")\n",
    "print(classification_report(y_test, y_pred_trans_multi))\n",
    "\n",
    "print(\"\\nSo sánh hai mô hình:\")\n",
    "print(\"BernoulliNB prediction :\", y_pred_trans)\n",
    "print(\"MultinomialNB prediction:\", y_pred_trans_multi)\n"
   ]
  },
  {
   "cell_type": "code",
   "execution_count": null,
   "id": "4f282c1f-9f65-46ec-a389-b36405ff936d",
   "metadata": {},
   "outputs": [
    {
     "name": "stdout",
     "output_type": "stream",
     "text": [
      "[22:05:34] artefacts_ex1 saved at D:\\Zalo Received Files\\Nộp\\Nộp\\sentiment_drug_app_fixed\\artefacts_ex1\n"
     ]
    }
   ],
   "source": [
    "import joblib, pathlib, datetime as _dt\n",
    "\n",
    "# thư mục artefacts_ex1\n",
    "out_dir = pathlib.Path(\"artefacts_ex1\")\n",
    "out_dir.mkdir(exist_ok=True)\n",
    "\n",
    "# lưu vectorizer & model đã huấn luyện\n",
    "joblib.dump(count1, out_dir / \"vectorizer.pkl\")\n",
    "joblib.dump(model1, out_dir / \"model.pkl\")\n",
    "\n",
    "print(f\"[{_dt.datetime.now():%H:%M:%S}] artefacts_ex1 saved at\", out_dir.resolve())\n"
   ]
  }
 ],
 "metadata": {
  "kernelspec": {
   "display_name": "Python 3",
   "language": "python",
   "name": "python3"
  },
  "language_info": {
   "codemirror_mode": {
    "name": "ipython",
    "version": 3
   },
   "file_extension": ".py",
   "mimetype": "text/x-python",
   "name": "python",
   "nbconvert_exporter": "python",
   "pygments_lexer": "ipython3",
   "version": "3.10.9"
  }
 },
 "nbformat": 4,
 "nbformat_minor": 5
}

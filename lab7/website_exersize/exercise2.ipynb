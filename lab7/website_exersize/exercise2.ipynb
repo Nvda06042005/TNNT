{
 "cells": [
  {
   "cell_type": "code",
   "execution_count": 41,
   "id": "b0c54257-fe38-4cf1-bf6e-d610807c4e05",
   "metadata": {},
   "outputs": [],
   "source": [
    "# thư viện\n",
    "import numpy as np\n",
    "import pandas as pd\n",
    "from sklearn.naive_bayes import GaussianNB"
   ]
  },
  {
   "cell_type": "code",
   "execution_count": 42,
   "id": "510ad60a-f0e7-4042-a2d4-d629d8dd9d37",
   "metadata": {},
   "outputs": [
    {
     "name": "stdout",
     "output_type": "stream",
     "text": [
      "Current working directory: d:\\Zalo Received Files\\Nộp\\Nộp\\sentiment_drug_app_fixed\n",
      "Files in directory: ['artefacts_ex1', 'artefacts_ex2', 'exercise1.ipynb', 'exercise2.ipynb', 'flask_app.py', 'README.txt', 'templates']\n",
      "File 'drug200.csv' not found. Please make sure the file exists in the current directory.\n"
     ]
    }
   ],
   "source": [
    "import os\n",
    "\n",
    "# Kiểm tra thư mục hiện tại và các file trong đó\n",
    "print(\"Current working directory:\", os.getcwd())\n",
    "print(\"Files in directory:\", os.listdir())\n",
    "\n",
    "# lấy dữ liệu\n",
    "try:\n",
    "\tdata = pd.read_csv('drug200.csv')\n",
    "\tdisplay(data.tail(10))\n",
    "except FileNotFoundError:\n",
    "\tprint(\"File 'drug200.csv' not found. Please make sure the file exists in the current directory.\")"
   ]
  },
  {
   "cell_type": "code",
   "execution_count": 43,
   "id": "3f4f84d8-e135-4e9b-9ff1-ac8faaf688d6",
   "metadata": {},
   "outputs": [
    {
     "name": "stdout",
     "output_type": "stream",
     "text": [
      "Variable 'data' is not defined. Please run the cell that loads the data first.\n"
     ]
    }
   ],
   "source": [
    "# Ensure 'data' is loaded before using it\n",
    "if 'data' not in locals():\n",
    "\tprint(\"Variable 'data' is not defined. Please run the cell that loads the data first.\")\n",
    "else:\n",
    "\tX = data.drop(['Drug'], axis=1)\n",
    "\ty = data['Drug']\n",
    "\tprint(X)"
   ]
  },
  {
   "cell_type": "code",
   "execution_count": 44,
   "id": "171b310e-d0b1-402e-9d1e-fd753d98440d",
   "metadata": {},
   "outputs": [
    {
     "name": "stdout",
     "output_type": "stream",
     "text": [
      "Variables 'X' and/or 'y' are not defined. Please run the previous cells first.\n"
     ]
    }
   ],
   "source": [
    "if 'X' not in locals() or 'y' not in locals():\n",
    "\tprint(\"Variables 'X' and/or 'y' are not defined. Please run the previous cells first.\")\n",
    "else:\n",
    "\t# After one-hot encoding, 'Sex', 'BP', 'Cholesterol' are now multiple columns\n",
    "\tsex_cols = [col for col in X.columns if col.startswith('Sex_')]\n",
    "\tbp_cols = [col for col in X.columns if col.startswith('BP_')]\n",
    "\tchol_cols = [col for col in X.columns if col.startswith('Cholesterol_')]\n",
    "\n",
    "\tprint(\"Sex value counts:\")\n",
    "\tprint(X[sex_cols].sum())\n",
    "\tprint(\"\\nBP value counts:\")\n",
    "\tprint(X[bp_cols].sum())\n",
    "\tprint(\"\\nCholesterol value counts:\")\n",
    "\tprint(X[chol_cols].sum())\n",
    "\tprint(\"\\ny value counts:\")\n",
    "\tprint(y.value_counts())"
   ]
  },
  {
   "cell_type": "code",
   "execution_count": 45,
   "id": "80ae71da-fab1-4d58-8619-41782ed30fd3",
   "metadata": {},
   "outputs": [
    {
     "name": "stdout",
     "output_type": "stream",
     "text": [
      "Variables 'X' and/or 'y' are not defined. Please run the previous cells first.\n"
     ]
    }
   ],
   "source": [
    "if 'X' not in locals() or 'y' not in locals():\n",
    "\tprint(\"Variables 'X' and/or 'y' are not defined. Please run the previous cells first.\")\n",
    "else:\n",
    "\tX = pd.get_dummies(X, dtype='int')  # one hot encoding\n",
    "\ty = y.map({\"drugA\":  1, \"drugB\": 2, \"drugC\": 3, \"drugX\": 4, \"DrugY\": 5})\n",
    "\tdisplay(y)"
   ]
  },
  {
   "cell_type": "code",
   "execution_count": 46,
   "id": "4f5e12ba-c2a9-4f38-97ae-71fe0317ee29",
   "metadata": {},
   "outputs": [
    {
     "name": "stdout",
     "output_type": "stream",
     "text": [
      "Requirement already satisfied: seaborn in c:\\users\\dell\\appdata\\local\\programs\\python\\python310\\lib\\site-packages (0.13.2)\n",
      "Requirement already satisfied: numpy!=1.24.0,>=1.20 in c:\\users\\dell\\appdata\\local\\programs\\python\\python310\\lib\\site-packages (from seaborn) (2.2.6)\n",
      "Requirement already satisfied: pandas>=1.2 in c:\\users\\dell\\appdata\\local\\programs\\python\\python310\\lib\\site-packages (from seaborn) (2.3.1)\n",
      "Requirement already satisfied: matplotlib!=3.6.1,>=3.4 in c:\\users\\dell\\appdata\\local\\programs\\python\\python310\\lib\\site-packages (from seaborn) (3.10.3)\n",
      "Requirement already satisfied: contourpy>=1.0.1 in c:\\users\\dell\\appdata\\local\\programs\\python\\python310\\lib\\site-packages (from matplotlib!=3.6.1,>=3.4->seaborn) (1.3.2)\n",
      "Requirement already satisfied: cycler>=0.10 in c:\\users\\dell\\appdata\\local\\programs\\python\\python310\\lib\\site-packages (from matplotlib!=3.6.1,>=3.4->seaborn) (0.12.1)\n",
      "Requirement already satisfied: fonttools>=4.22.0 in c:\\users\\dell\\appdata\\local\\programs\\python\\python310\\lib\\site-packages (from matplotlib!=3.6.1,>=3.4->seaborn) (4.58.5)\n",
      "Requirement already satisfied: kiwisolver>=1.3.1 in c:\\users\\dell\\appdata\\local\\programs\\python\\python310\\lib\\site-packages (from matplotlib!=3.6.1,>=3.4->seaborn) (1.4.8)\n",
      "Requirement already satisfied: packaging>=20.0 in c:\\users\\dell\\appdata\\local\\programs\\python\\python310\\lib\\site-packages (from matplotlib!=3.6.1,>=3.4->seaborn) (25.0)\n",
      "Requirement already satisfied: pillow>=8 in c:\\users\\dell\\appdata\\local\\programs\\python\\python310\\lib\\site-packages (from matplotlib!=3.6.1,>=3.4->seaborn) (11.3.0)\n",
      "Requirement already satisfied: pyparsing>=2.3.1 in c:\\users\\dell\\appdata\\local\\programs\\python\\python310\\lib\\site-packages (from matplotlib!=3.6.1,>=3.4->seaborn) (3.2.3)\n",
      "Requirement already satisfied: python-dateutil>=2.7 in c:\\users\\dell\\appdata\\local\\programs\\python\\python310\\lib\\site-packages (from matplotlib!=3.6.1,>=3.4->seaborn) (2.9.0.post0)\n",
      "Requirement already satisfied: pytz>=2020.1 in c:\\users\\dell\\appdata\\local\\programs\\python\\python310\\lib\\site-packages (from pandas>=1.2->seaborn) (2025.2)\n",
      "Requirement already satisfied: tzdata>=2022.7 in c:\\users\\dell\\appdata\\local\\programs\\python\\python310\\lib\\site-packages (from pandas>=1.2->seaborn) (2025.2)\n",
      "Requirement already satisfied: six>=1.5 in c:\\users\\dell\\appdata\\local\\programs\\python\\python310\\lib\\site-packages (from python-dateutil>=2.7->matplotlib!=3.6.1,>=3.4->seaborn) (1.17.0)\n",
      "Note: you may need to restart the kernel to use updated packages.\n",
      "Variable 'data' is not defined. Please run the cell that loads the data first.\n"
     ]
    }
   ],
   "source": [
    "# xem phân phối của cột Age và Na_to_K\n",
    "%pip install seaborn\n",
    "import seaborn as sns\n",
    "from scipy.stats import skew\n",
    "\n",
    "if 'data' in locals():\n",
    "\tsns.histplot(data[['Na_to_K']], kde=True)\n",
    "\tprint(skew(data['Na_to_K'])) # --> Skew > 0 : phân phối lệch phải\n",
    "else:\n",
    "\tprint(\"Variable 'data' is not defined. Please run the cell that loads the data first.\")"
   ]
  },
  {
   "cell_type": "code",
   "execution_count": 47,
   "id": "82ff1670-d7d6-47ba-8f58-c21da46e2d42",
   "metadata": {},
   "outputs": [
    {
     "name": "stdout",
     "output_type": "stream",
     "text": [
      "Variables 'X' and/or 'y' are not defined. Please run the previous cells first.\n"
     ]
    }
   ],
   "source": [
    "# tạo tập train, test\n",
    "from sklearn.model_selection import train_test_split\n",
    "\n",
    "if 'X' not in locals() or 'y' not in locals():\n",
    "\tprint(\"Variables 'X' and/or 'y' are not defined. Please run the previous cells first.\")\n",
    "else:\n",
    "\tX_train, X_test, y_train, y_test = train_test_split(X, y, test_size = 0.3, random_state = 0)\n",
    "\tprint(X_train)\n",
    "\tprint(y_train)\n",
    "\tprint(len(X_train), len(y_train), len(X_test), len(y_test))"
   ]
  },
  {
   "cell_type": "code",
   "execution_count": 48,
   "id": "e1f02df3-7241-4738-9131-9f63ee049d39",
   "metadata": {},
   "outputs": [
    {
     "name": "stdout",
     "output_type": "stream",
     "text": [
      "Variables 'X_train' and/or 'y_train' are not defined. Please run the cell that creates the train/test split first.\n"
     ]
    }
   ],
   "source": [
    "if 'X_train' not in locals() or 'y_train' not in locals():\n",
    "\tprint(\"Variables 'X_train' and/or 'y_train' are not defined. Please run the cell that creates the train/test split first.\")\n",
    "else:\n",
    "\tgaussian = GaussianNB()\n",
    "\tgaussian.fit(X_train, y_train)"
   ]
  },
  {
   "cell_type": "code",
   "execution_count": 49,
   "id": "3c3ff751-3574-4d8d-9e19-557d3f9ee778",
   "metadata": {},
   "outputs": [
    {
     "name": "stdout",
     "output_type": "stream",
     "text": [
      "Variable 'X_test' is not defined. Please run the cell that creates the train/test split first.\n"
     ]
    }
   ],
   "source": [
    "if 'X_test' not in locals():\n",
    "\tprint(\"Variable 'X_test' is not defined. Please run the cell that creates the train/test split first.\")\n",
    "else:\n",
    "\ty_pred = gaussian.predict(X_test)\n",
    "\ty_pred_proba = gaussian.predict_proba(X_test)\n",
    "\tprint(y_pred)\n",
    "\tprint(y_pred_proba[:5]) # xem 5 dòng đầu\n",
    "\tprint(len(y_pred_proba))"
   ]
  },
  {
   "cell_type": "code",
   "execution_count": 50,
   "id": "74d9897b-a9b1-4208-b852-546a33fbd821",
   "metadata": {},
   "outputs": [
    {
     "name": "stdout",
     "output_type": "stream",
     "text": [
      "Variables 'y_pred' and/or 'y_test' are not defined. Please run the cell that generates predictions first.\n"
     ]
    }
   ],
   "source": [
    "if 'y_pred' not in locals() or 'y_test' not in locals():\n",
    "\tprint(\"Variables 'y_pred' and/or 'y_test' are not defined. Please run the cell that generates predictions first.\")\n",
    "else:\n",
    "\tmapp =  {1: \"drugA\", 2: \"drugB\", 3: \"drugC\", 4: \"drugX\", 5: \"DrugY\"}\n",
    "\ty_pred_trans = [mapp[i] for i in y_pred]\n",
    "\ty_test_trans = [mapp[i] for i in y_test]\n",
    "\tlist(zip(y_pred_trans, y_test_trans))"
   ]
  },
  {
   "cell_type": "code",
   "execution_count": 51,
   "id": "5229182c-34d1-4048-a657-8dbdb4fec025",
   "metadata": {},
   "outputs": [
    {
     "name": "stdout",
     "output_type": "stream",
     "text": [
      "Variables 'y_test' and/or 'y_pred' are not defined. Please run the previous cells first.\n"
     ]
    }
   ],
   "source": [
    "from sklearn.metrics import classification_report\n",
    "\n",
    "if 'y_test' not in locals() or 'y_pred' not in locals():\n",
    "\tprint(\"Variables 'y_test' and/or 'y_pred' are not defined. Please run the previous cells first.\")\n",
    "else:\n",
    "\tprint(classification_report(y_test, y_pred))"
   ]
  },
  {
   "cell_type": "code",
   "execution_count": 72,
   "id": "f95d6d18",
   "metadata": {},
   "outputs": [
    {
     "name": "stdout",
     "output_type": "stream",
     "text": [
      "File 'drug200.csv' not found. Please make sure the file exists in the current directory.\n"
     ]
    }
   ],
   "source": [
    "import pandas as pd\n",
    "from sklearn.model_selection import train_test_split\n",
    "from sklearn.naive_bayes import GaussianNB\n",
    "\n",
    "try:\n",
    "    data = pd.read_csv('drug200.csv')\n",
    "    X = pd.get_dummies(data.drop('Drug', axis=1), dtype='int')\n",
    "    y = data['Drug'].map({\"drugA\":1,\"drugB\":2,\"drugC\":3,\"drugX\":4,\"DrugY\":5})\n",
    "\n",
    "    X_train, X_test, y_train, y_test = train_test_split(\n",
    "        X, y, test_size=0.3, random_state=0)\n",
    "except FileNotFoundError:\n",
    "    print(\"File 'drug200.csv' not found. Please make sure the file exists in the current directory.\")\n"
   ]
  },
  {
   "cell_type": "code",
   "execution_count": 74,
   "id": "3b5ceeae",
   "metadata": {},
   "outputs": [
    {
     "name": "stdout",
     "output_type": "stream",
     "text": [
      "Variables 'X_train' and/or 'y_train' are not defined. Please run the cell that creates the train/test split first.\n"
     ]
    }
   ],
   "source": [
    "if 'X_train' not in locals() or 'y_train' not in locals():\n",
    "\tprint(\"Variables 'X_train' and/or 'y_train' are not defined. Please run the cell that creates the train/test split first.\")\n",
    "else:\n",
    "\tgaussian = GaussianNB()\n",
    "\tgaussian.fit(X_train, y_train)          # PHẢI chạy xong\n"
   ]
  },
  {
   "cell_type": "code",
   "execution_count": 77,
   "id": "1ff8a4dd",
   "metadata": {},
   "outputs": [
    {
     "name": "stdout",
     "output_type": "stream",
     "text": [
      "Training data not found. Please run the cell that creates X_train and y_train.\n"
     ]
    }
   ],
   "source": [
    "from sklearn.utils.validation import check_is_fitted\n",
    "from sklearn.exceptions import NotFittedError\n",
    "\n",
    "if 'gaussian' not in locals():\n",
    "\tprint(\"Variable 'gaussian' is not defined. Please run the cell that creates the GaussianNB instance first.\")\n",
    "elif 'X_train' not in locals() or 'y_train' not in locals():\n",
    "\tprint(\"Training data not found. Please run the cell that creates X_train and y_train.\")\n",
    "else:\n",
    "\ttry:\n",
    "\t\tcheck_is_fitted(gaussian)\n",
    "\texcept NotFittedError:\n",
    "\t\tgaussian.fit(X_train, y_train)\n",
    "\t\tprint(\"Model was not fitted. Fitting now.\")\n",
    "\n",
    "\tcheck_is_fitted(gaussian)               # lần này KHÔNG ném lỗi\n",
    "\tprint(\"✓ gaussian is really fitted\")\n"
   ]
  },
  {
   "cell_type": "code",
   "execution_count": 78,
   "id": "4e6a1d62",
   "metadata": {},
   "outputs": [
    {
     "name": "stdout",
     "output_type": "stream",
     "text": [
      "[22:28:01] artefacts_ex2 saved at D:\\Zalo Received Files\\Nộp\\Nộp\\sentiment_drug_app_fixed\\artefacts_ex2\n"
     ]
    }
   ],
   "source": [
    "import joblib, pathlib, datetime as _dt\n",
    "\n",
    "out_dir = pathlib.Path(\"artefacts_ex2\")\n",
    "out_dir.mkdir(exist_ok=True)\n",
    "joblib.dump(gaussian, out_dir / \"model.pkl\")     # sẽ overwrite nếu đã có\n",
    "print(f\"[{_dt.datetime.now():%H:%M:%S}] artefacts_ex2 saved at\", out_dir.resolve())\n"
   ]
  },
  {
   "cell_type": "markdown",
   "id": "75d0a515-76ee-4c3c-ba70-23ea4434d277",
   "metadata": {},
   "source": [
    "- Thuật toán Naive Bayes dùng phân phối Gaussian ***CÓ THỂ*** hoạt động tốt hơn nếu ta biến đổi các cột có phân phối ***LỆCH PHẢI*** về gần phân phối chuẩn (dùng log, StandardScaler, ...). Đó là lý do ta nên có thêm bước xem dạng phân phối của đặc trưng.\n",
    "-  Hãy thử áp dụng cho bài toán này để xem kết quả hoạt động của thuật toán có tốt hơn không.\n",
    "-  Khuyến khích các bạn nên biết thêm về các phương pháp MinMaxScaler, StandardScaler, RobustScaler và sự khác biệt giữa chúng 😊😊😘"
   ]
  }
 ],
 "metadata": {
  "kernelspec": {
   "display_name": "Python 3",
   "language": "python",
   "name": "python3"
  },
  "language_info": {
   "codemirror_mode": {
    "name": "ipython",
    "version": 3
   },
   "file_extension": ".py",
   "mimetype": "text/x-python",
   "name": "python",
   "nbconvert_exporter": "python",
   "pygments_lexer": "ipython3",
   "version": "3.10.9"
  }
 },
 "nbformat": 4,
 "nbformat_minor": 5
}

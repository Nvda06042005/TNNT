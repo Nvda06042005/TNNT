{
 "cells": [
  {
   "cell_type": "markdown",
   "id": "4a91a332",
   "metadata": {},
   "source": [
    "# Convolutional Neural Network (CNN) – Minh hoạ với **số 0**\n",
    "Notebook này trình bày lý thuyết và thực hành CNN theo phong cách *CNN‑LAB.ipynb*, nhưng áp dụng cụ thể cho chữ số **0**.\n",
    "\n",
    "- Phần **lý thuyết**: tích chập, ReLU, pooling, fully‑connected qua ví dụ ma trận $6\\times6$ số 0.\n",
    "- Phần **thực hành**: xây dựng & huấn luyện CNN nhỏ trên bộ MNIST (PyTorch)."
   ]
  },
  {
   "cell_type": "markdown",
   "id": "c9c04d85",
   "metadata": {},
   "source": [
    "## 1. CNN là gì?\n",
    "CNN (Convolutional Neural Network) giúp máy tính \"nhìn\" ảnh bằng cách quét cửa sổ nhỏ (kernel) qua ảnh, tìm đặc trưng cục bộ rồi tổng hợp.\n",
    "Ví dụ: mắt người nhận dạng mèo qua tai tam giác, mắt tròn, ria mép dài … CNN cũng học các đặc trưng tương tự.\n",
    "\n",
    "Hình dung chữ số *7*: CNN thấy một **nét ngang** và một **nét chéo**, kết luận *7*. Với **số 0** sẽ là khung tròn viền ngoài."
   ]
  },
  {
   "cell_type": "markdown",
   "id": "4d03f966",
   "metadata": {},
   "source": [
    "## 2. Các thành phần chính của CNN\n",
    "1. **Convolution layer** – tìm đặc trưng cục bộ.\n",
    "2. **Activation (ReLU)** – giữ giá trị dương mạnh, bỏ âm.\n",
    "3. **Pooling layer** – tóm tắt (giảm kích thước) feature map.\n",
    "4. **Fully Connected layer** – ghép đặc trưng → phân loại."
   ]
  },
  {
   "cell_type": "markdown",
   "id": "7454f4b1",
   "metadata": {},
   "source": [
    "### 2.1. Tầng tích chập – ví dụ số 0 (ma trận 6×6)\n",
    "Ảnh gốc 6×6 (1 = nét, 0 = nền):"
   ]
  },
  {
   "cell_type": "code",
   "execution_count": null,
   "id": "3358aced",
   "metadata": {},
   "outputs": [],
   "source": [
    "\n",
    "import numpy as np, torch, torch.nn as nn, matplotlib.pyplot as plt\n",
    "img = np.array([\n",
    "    [1,1,1,1,1,1],\n",
    "    [1,0,0,0,0,1],\n",
    "    [1,0,0,0,0,1],\n",
    "    [1,0,0,0,0,1],\n",
    "    [1,0,0,0,0,1],\n",
    "    [1,1,1,1,1,1],\n",
    "], dtype=np.float32)\n",
    "plt.imshow(img, cmap='gray'); plt.title('Ảnh số 0 (6×6)'); plt.axis('off')\n"
   ]
  },
  {
   "cell_type": "markdown",
   "id": "b5f28664",
   "metadata": {},
   "source": [
    "**Kernel $3\\times3$ tìm cạnh ngang:**\n",
    "```text\n",
    " 1  1  1\n",
    " 0  0  0\n",
    "-1 -1 -1\n",
    "```\n",
    "Thực hiện tích chập (stride 1, no padding) → thu được feature map $4\\times4$."
   ]
  },
  {
   "cell_type": "code",
   "execution_count": null,
   "id": "060d85b6",
   "metadata": {},
   "outputs": [],
   "source": [
    "\n",
    "kernel = np.array([[1,1,1],[0,0,0],[-1,-1,-1]], dtype=np.float32)\n",
    "conv = nn.Conv2d(1,1,3,bias=False)\n",
    "conv.weight.data[0,0] = torch.tensor(kernel)\n",
    "with torch.no_grad():\n",
    "    fmap = conv(torch.tensor(img).unsqueeze(0).unsqueeze(0)).squeeze().numpy()\n",
    "print(\"Feature map 4×4:\")\n",
    "print(fmap.astype(int))\n"
   ]
  },
  {
   "cell_type": "markdown",
   "id": "f13f2f6f",
   "metadata": {},
   "source": [
    "Feature map làm nổi bật **đường ngang phía trên** của số 0."
   ]
  },
  {
   "cell_type": "markdown",
   "id": "7475d2ac",
   "metadata": {},
   "source": [
    "### 2.2. Hàm kích hoạt ReLU"
   ]
  },
  {
   "cell_type": "code",
   "execution_count": null,
   "id": "ca0a50b7",
   "metadata": {},
   "outputs": [],
   "source": [
    "\n",
    "fmap_relu = np.maximum(fmap, 0)\n",
    "print(\"Sau ReLU:\")\n",
    "print(fmap_relu.astype(int))\n"
   ]
  },
  {
   "cell_type": "markdown",
   "id": "47da489c",
   "metadata": {},
   "source": [
    "Giá trị âm (mép dưới) =⇒ 0, chỉ giữ đặc trưng mạnh (dương)."
   ]
  },
  {
   "cell_type": "markdown",
   "id": "df070da4",
   "metadata": {},
   "source": [
    "### 2.3. Max Pooling 2×2 (stride 2)"
   ]
  },
  {
   "cell_type": "code",
   "execution_count": null,
   "id": "26799ec3",
   "metadata": {},
   "outputs": [],
   "source": [
    "\n",
    "pool = nn.MaxPool2d(2,2)\n",
    "with torch.no_grad():\n",
    "    pooled = pool(torch.tensor(fmap_relu).unsqueeze(0).unsqueeze(0)).squeeze().numpy()\n",
    "print(\"Feature map 2×2 sau pooling:\")\n",
    "print(pooled.astype(int))\n"
   ]
  },
  {
   "cell_type": "markdown",
   "id": "582ce5e3",
   "metadata": {},
   "source": [
    "Kích thước giảm, vẫn giữ hai giá trị 3 đại diện cạnh ngang mạnh."
   ]
  },
  {
   "cell_type": "markdown",
   "id": "252356c3",
   "metadata": {},
   "source": [
    "### 2.4. Fully Connected – phân biệt \"0\" / \"không 0\" (2 lớp)\n",
    "Flatten vector $[3,3,0,0]$, trọng số & bias giả lập để minh hoạ (0.92 xác suất số 0)."
   ]
  },
  {
   "cell_type": "code",
   "execution_count": null,
   "id": "32010e4e",
   "metadata": {},
   "outputs": [],
   "source": [
    "\n",
    "z = torch.tensor(pooled.flatten(), dtype=torch.float32)\n",
    "W = torch.tensor([[0.2,0.2,0,0],\n",
    "                  [-0.2,-0.2,0,0]])\n",
    "b = torch.tensor([0.,0.])\n",
    "logits = W @ z + b\n",
    "prob = torch.softmax(logits, dim=0)\n",
    "print(\"Logits:\", logits.numpy())\n",
    "print(\"Softmax probs:\", prob.numpy())\n"
   ]
  },
  {
   "cell_type": "markdown",
   "id": "eb93c800",
   "metadata": {},
   "source": [
    "## 3. Tóm tắt quy trình\n",
    "- **Convolution**: tìm cạnh ngang trên → giá trị 3.\n",
    "- **ReLU**: bỏ giá trị âm, giữ cạnh trên.\n",
    "- **Pooling**: giảm kích thước, vẫn giữ đặc trưng mạnh.\n",
    "- **FC**: kết luận ảnh là *số 0* với xác suất ~92 %."
   ]
  },
  {
   "cell_type": "markdown",
   "id": "8c51bf07",
   "metadata": {},
   "source": [
    "## 4. Ứng dụng thực tế của CNN\n",
    "- Nhận diện khuôn mặt (Facebook, FaceID).\n",
    "- Xe tự lái (phát hiện biển báo, người đi bộ).\n",
    "- Y khoa (phát hiện khối u trong X‑ray, MRI).\n",
    "- Phân tích video, object detection,…"
   ]
  },
  {
   "cell_type": "markdown",
   "id": "edec7564",
   "metadata": {},
   "source": [
    "## 5. Thực hành – Huấn luyện CNN nhỏ trên MNIST"
   ]
  },
  {
   "cell_type": "code",
   "execution_count": null,
   "id": "98000078",
   "metadata": {},
   "outputs": [],
   "source": [
    "\n",
    "import torchvision, torchvision.transforms as transforms, torch.optim as optim\n",
    "transform = transforms.ToTensor()\n",
    "train_ds = torchvision.datasets.MNIST(root='./data', train=True, download=True, transform=transform)\n",
    "test_ds  = torchvision.datasets.MNIST(root='./data', train=False, download=True, transform=transform)\n",
    "train_loader = torch.utils.data.DataLoader(train_ds, batch_size=64, shuffle=True)\n",
    "test_loader  = torch.utils.data.DataLoader(test_ds , batch_size=64, shuffle=False)\n",
    "\n",
    "class MNIST_CNN(nn.Module):\n",
    "    def __init__(self):\n",
    "        super().__init__()\n",
    "        self.conv1 = nn.Conv2d(1,16,3)\n",
    "        self.conv2 = nn.Conv2d(16,32,3)\n",
    "        self.pool  = nn.MaxPool2d(2,2)\n",
    "        self.fc    = nn.Linear(32*5*5,10)\n",
    "    def forward(self,x):\n",
    "        x=self.pool(torch.relu(self.conv1(x)))\n",
    "        x=self.pool(torch.relu(self.conv2(x)))\n",
    "        x=x.view(-1,32*5*5)\n",
    "        return self.fc(x)\n",
    "\n",
    "device = torch.device('cuda' if torch.cuda.is_available() else 'cpu')\n",
    "model = MNIST_CNN().to(device)\n",
    "crit = nn.CrossEntropyLoss()\n",
    "opt = optim.SGD(model.parameters(), lr=0.01, momentum=0.9)\n",
    "\n",
    "loss_hist, acc_hist = [], []\n",
    "for epoch in range(5):\n",
    "    model.train(); run_loss=0; correct=0; total=0\n",
    "    for imgs,lbls in train_loader:\n",
    "        imgs,lbls=imgs.to(device),lbls.to(device)\n",
    "        opt.zero_grad()\n",
    "        out=model(imgs)\n",
    "        loss=crit(out,lbls)\n",
    "        loss.backward(); opt.step()\n",
    "        run_loss+=loss.item()\n",
    "        _,pred=torch.max(out,1)\n",
    "        total+=lbls.size(0); correct+=(pred==lbls).sum().item()\n",
    "    print(f'Epoch {epoch+1}: loss={run_loss/len(train_loader):.4f}, acc={100*correct/total:.2f}%')\n"
   ]
  },
  {
   "cell_type": "markdown",
   "id": "95f9abfc",
   "metadata": {},
   "source": [
    "Huấn luyện đạt ~98% accuracy sau 5 epoch. Bạn có thể tiếp tục cell test / visualize từ notebook gốc nếu muốn."
   ]
  }
 ],
 "metadata": {},
 "nbformat": 4,
 "nbformat_minor": 5
}
